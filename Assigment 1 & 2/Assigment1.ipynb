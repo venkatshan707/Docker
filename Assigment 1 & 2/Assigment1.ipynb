{
 "cells": [
  {
   "cell_type": "markdown",
   "metadata": {},
   "source": [
    "## Assignment 1"
   ]
  },
  {
   "cell_type": "markdown",
   "metadata": {},
   "source": [
    "1. **docker pull** : Helps to pull image from docker hub. "
   ]
  },
  {
   "cell_type": "markdown",
   "metadata": {},
   "source": [
    "[![image](https://www.linkpicture.com/q/1.docker-pull.png)](https://www.linkpicture.com/view.php?img=LPic634eb3e25a74a900415863)"
   ]
  },
  {
   "cell_type": "markdown",
   "metadata": {},
   "source": [
    "2. **docker images**: list all the available images to run"
   ]
  },
  {
   "cell_type": "markdown",
   "metadata": {},
   "source": [
    "[![image](https://www.linkpicture.com/q/2.Docker-images.png)](https://www.linkpicture.com/view.php?img=LPic634eb3e25a74a900415863)"
   ]
  },
  {
   "cell_type": "markdown",
   "metadata": {},
   "source": [
    "3.**docker run -d -p <*host_port*>*:*<*container_port > <*image_name*>*** : Helps to run the image"
   ]
  },
  {
   "cell_type": "markdown",
   "metadata": {},
   "source": [
    "[![image](https://www.linkpicture.com/q/3.run.png)](https://www.linkpicture.com/view.php?img=LPic634eb3e25a74a900415863)"
   ]
  },
  {
   "cell_type": "markdown",
   "metadata": {},
   "source": [
    "4.**docker ps**: list running containers"
   ]
  },
  {
   "cell_type": "markdown",
   "metadata": {},
   "source": [
    "[![image](https://www.linkpicture.com/q/4.dockerps.png)](https://www.linkpicture.com/view.php?img=LPic634eb3e25a74a900415863)"
   ]
  },
  {
   "cell_type": "markdown",
   "metadata": {},
   "source": [
    "5. **docker stop <*container_name*>** :Stops the running container"
   ]
  },
  {
   "cell_type": "markdown",
   "metadata": {},
   "source": [
    "[![image](https://www.linkpicture.com/q/5.stop.png)](https://www.linkpicture.com/view.php?img=LPic634eb3e25a74a900415863)"
   ]
  },
  {
   "cell_type": "markdown",
   "metadata": {},
   "source": [
    "6.**docker rmi -f <*image name*>** : removes / deletes the image"
   ]
  },
  {
   "cell_type": "markdown",
   "metadata": {},
   "source": [
    "[![image](https://www.linkpicture.com/q/6.removing.png)](https://www.linkpicture.com/view.php?img=LPic634eb3e25a74a900415863)"
   ]
  },
  {
   "cell_type": "markdown",
   "metadata": {},
   "source": [
    "7. **docker start <*container_name*>** : Starts the container"
   ]
  },
  {
   "cell_type": "markdown",
   "metadata": {},
   "source": [
    "[![image](https://www.linkpicture.com/q/7.starting-the-container.png)](https://www.linkpicture.com/view.php?img=LPic634eb3e25a74a900415863)"
   ]
  },
  {
   "cell_type": "markdown",
   "metadata": {},
   "source": [
    "8. **docker kill <*container_name*>**: kills the running container"
   ]
  },
  {
   "cell_type": "markdown",
   "metadata": {},
   "source": [
    "[![image](https://www.linkpicture.com/q/8.killing-the-conrtainer.png)](https://www.linkpicture.com/view.php?img=LPic634eb3e25a74a900415863)"
   ]
  },
  {
   "cell_type": "markdown",
   "metadata": {},
   "source": [
    "9. ***docker retstart <*container_name>**: restarts the container"
   ]
  },
  {
   "cell_type": "markdown",
   "metadata": {},
   "source": [
    "[![image](https://www.linkpicture.com/q/9.restarting.png)](https://www.linkpicture.com/view.php?img=LPic634eb3e25a74a900415863)"
   ]
  },
  {
   "cell_type": "markdown",
   "metadata": {},
   "source": [
    "10.***docker unpause <*container_name>** : pauses the running container"
   ]
  },
  {
   "cell_type": "markdown",
   "metadata": {},
   "source": [
    "[![image](https://www.linkpicture.com/q/10.pauing-the-container.png)](https://www.linkpicture.com/view.php?img=LPic634eb3e25a74a900415863)"
   ]
  },
  {
   "cell_type": "markdown",
   "metadata": {},
   "source": [
    "11. ***docker pause <*container_name>** : resumes the paused container"
   ]
  },
  {
   "cell_type": "markdown",
   "metadata": {},
   "source": [
    "[![image](https://www.linkpicture.com/q/11.unpause.png)](https://www.linkpicture.com/view.php?img=LPic634eb3e25a74a900415863)"
   ]
  },
  {
   "cell_type": "markdown",
   "metadata": {},
   "source": [
    "12. ***docker ps -a** : lists all the containers ran"
   ]
  },
  {
   "cell_type": "markdown",
   "metadata": {},
   "source": [
    "[![image](https://www.linkpicture.com/q/12.showallrancontainers.png)](https://www.linkpicture.com/view.php?img=LPic634eb3e25a74a900415863)"
   ]
  },
  {
   "cell_type": "markdown",
   "metadata": {},
   "source": [
    "13. ***docker inspect <*container_name>** : shows low level info (in json format)"
   ]
  },
  {
   "cell_type": "markdown",
   "metadata": {},
   "source": [
    "[![image](https://www.linkpicture.com/q/13.inspect.png)](https://www.linkpicture.com/view.php?img=LPic634eb3e25a74a900415863)"
   ]
  },
  {
   "cell_type": "markdown",
   "metadata": {},
   "source": [
    "14. ***docker diff <*container_name>** : shows the differnces with image (shows modified files)"
   ]
  },
  {
   "cell_type": "markdown",
   "metadata": {},
   "source": [
    "[![image](https://www.linkpicture.com/q/14.diff_png.png)](https://www.linkpicture.com/view.php?img=LPic634eb3e25a74a900415863)"
   ]
  },
  {
   "cell_type": "markdown",
   "metadata": {},
   "source": [
    "15. ***docker wait <*container_name>** : wait until container terminatesa and returns the exit code"
   ]
  },
  {
   "cell_type": "markdown",
   "metadata": {},
   "source": [
    "[![image](https://www.linkpicture.com/q/15.dockerwait.png)](https://www.linkpicture.com/view.php?img=LPic634eb3e25a74a900415863)"
   ]
  },
  {
   "cell_type": "markdown",
   "metadata": {},
   "source": [
    "## Assignemnet 2"
   ]
  },
  {
   "cell_type": "markdown",
   "metadata": {},
   "source": [
    "Pulling Docker Image:"
   ]
  },
  {
   "cell_type": "markdown",
   "metadata": {},
   "source": [
    "[![image](https://www.linkpicture.com/q/16.runninghelloworld_4.png)](https://www.linkpicture.com/view.php?img=LPic634ecf0211b4d1155882109)"
   ]
  },
  {
   "cell_type": "markdown",
   "metadata": {},
   "source": [
    "Running COntainer:"
   ]
  },
  {
   "cell_type": "markdown",
   "metadata": {},
   "source": [
    "[![image](https://www.linkpicture.com/q/17.runningdockerimage_4.png)](https://www.linkpicture.com/view.php?img=LPic634ecf0211b4d1155882109)"
   ]
  }
 ],
 "metadata": {
  "kernelspec": {
   "display_name": "Python 3",
   "language": "python",
   "name": "python3"
  },
  "language_info": {
   "codemirror_mode": {
    "name": "ipython",
    "version": 3
   },
   "file_extension": ".py",
   "mimetype": "text/x-python",
   "name": "python",
   "nbconvert_exporter": "python",
   "pygments_lexer": "ipython3",
   "version": "3.7.6"
  },
  "vscode": {
   "interpreter": {
    "hash": "4fb3394fa0e2def50217b962c4de5d206d837593b2666bdbf47f27f26e464f93"
   }
  }
 },
 "nbformat": 4,
 "nbformat_minor": 2
}
